{
 "cells": [
  {
   "cell_type": "code",
   "execution_count": 1,
   "id": "7c1c4ddd-99c2-40f0-8b37-a936e3b70b8c",
   "metadata": {},
   "outputs": [
    {
     "name": "stdout",
     "output_type": "stream",
     "text": [
      "tensor([10.,  3.])\n"
     ]
    }
   ],
   "source": [
    "import torch\n",
    "\n",
    "x = torch.Tensor([5,3])\n",
    "y = torch.Tensor([2,1])\n",
    "\n",
    "print(x * y)"
   ]
  },
  {
   "cell_type": "code",
   "execution_count": 2,
   "id": "1af6a510-8d00-4acb-9f09-f4ee2f29d101",
   "metadata": {},
   "outputs": [
    {
     "name": "stdout",
     "output_type": "stream",
     "text": [
      "torch.Size([2, 5])\n",
      "tensor([[0., 0., 0., 0., 0.],\n",
      "        [0., 0., 0., 0., 0.]])\n"
     ]
    }
   ],
   "source": [
    "x = torch.zeros(2, 5)\n",
    "print(x.shape)\n",
    "print(x)"
   ]
  },
  {
   "cell_type": "code",
   "execution_count": 3,
   "id": "862ab1ed-89b2-4543-9c66-33a022ec4c73",
   "metadata": {},
   "outputs": [
    {
     "name": "stdout",
     "output_type": "stream",
     "text": [
      "tensor([[[0.9649, 0.4316, 0.0309, 0.0486],\n",
      "         [0.7137, 0.0021, 0.0625, 0.9142],\n",
      "         [0.0856, 0.9727, 0.2602, 0.8358]],\n",
      "\n",
      "        [[0.0619, 0.3291, 0.1953, 0.3641],\n",
      "         [0.3402, 0.7704, 0.1081, 0.0562],\n",
      "         [0.5325, 0.8560, 0.8052, 0.9056]]])\n"
     ]
    }
   ],
   "source": [
    "y = torch.rand((2,3,4))\n",
    "print(y)"
   ]
  },
  {
   "cell_type": "code",
   "execution_count": 7,
   "id": "1c8aebb5-cc07-43e3-a69e-d6051ae7828a",
   "metadata": {},
   "outputs": [
    {
     "name": "stdout",
     "output_type": "stream",
     "text": [
      "tensor([0.9649, 0.4316, 0.0309, 0.0486, 0.7137, 0.0021, 0.0625, 0.9142, 0.0856,\n",
      "        0.9727, 0.2602, 0.8358, 0.0619, 0.3291, 0.1953, 0.3641, 0.3402, 0.7704,\n",
      "        0.1081, 0.0562, 0.5325, 0.8560, 0.8052, 0.9056])\n"
     ]
    }
   ],
   "source": [
    "z = y.view([-1,])\n",
    "print(z)"
   ]
  },
  {
   "cell_type": "code",
   "execution_count": 8,
   "id": "017225f2-2ca4-42a5-a81a-027b1e4534fb",
   "metadata": {},
   "outputs": [
    {
     "name": "stdout",
     "output_type": "stream",
     "text": [
      "tensor([5.0000e+00, 4.3157e-01, 3.0862e-02, 4.8554e-02, 7.1373e-01, 2.0838e-03,\n",
      "        6.2532e-02, 9.1418e-01, 8.5583e-02, 9.7274e-01, 2.6021e-01, 8.3577e-01,\n",
      "        6.1887e-02, 3.2910e-01, 1.9533e-01, 3.6414e-01, 3.4023e-01, 7.7038e-01,\n",
      "        1.0812e-01, 5.6192e-02, 5.3251e-01, 8.5596e-01, 8.0521e-01, 9.0564e-01])\n",
      "tensor([[[5.0000e+00, 4.3157e-01, 3.0862e-02, 4.8554e-02],\n",
      "         [7.1373e-01, 2.0838e-03, 6.2532e-02, 9.1418e-01],\n",
      "         [8.5583e-02, 9.7274e-01, 2.6021e-01, 8.3577e-01]],\n",
      "\n",
      "        [[6.1887e-02, 3.2910e-01, 1.9533e-01, 3.6414e-01],\n",
      "         [3.4023e-01, 7.7038e-01, 1.0812e-01, 5.6192e-02],\n",
      "         [5.3251e-01, 8.5596e-01, 8.0521e-01, 9.0564e-01]]])\n"
     ]
    }
   ],
   "source": [
    "z[0] = 5\n",
    "print(z)\n",
    "print(y)"
   ]
  },
  {
   "cell_type": "code",
   "execution_count": 9,
   "id": "5aece268-90f1-4276-b20d-8e46051db1ed",
   "metadata": {},
   "outputs": [
    {
     "data": {
      "text/plain": [
       "tensor([1.0000e+01, 8.6314e-01, 6.1723e-02, 9.7109e-02, 1.4275e+00, 4.1677e-03,\n",
       "        1.2506e-01, 1.8284e+00, 1.7117e-01, 1.9455e+00, 5.2043e-01, 1.6715e+00,\n",
       "        1.2377e-01, 6.5820e-01, 3.9065e-01, 7.2828e-01, 6.8047e-01, 1.5408e+00,\n",
       "        2.1623e-01, 1.1238e-01, 1.0650e+00, 1.7119e+00, 1.6104e+00, 1.8113e+00])"
      ]
     },
     "execution_count": 9,
     "metadata": {},
     "output_type": "execute_result"
    }
   ],
   "source": [
    "z * 2"
   ]
  },
  {
   "cell_type": "code",
   "execution_count": 17,
   "id": "68a40042-bc97-4f92-8b47-dd0254ec6851",
   "metadata": {
    "scrolled": true
   },
   "outputs": [
    {
     "name": "stdout",
     "output_type": "stream",
     "text": [
      "torch.Size([2, 3, 4])\n",
      "tensor([0.0619, 0.3291, 0.1953, 0.3641])\n",
      "tensor([0.0619, 0.1953])\n"
     ]
    }
   ],
   "source": [
    "print(y.shape)\n",
    "print(y[1,0,::])\n",
    "print(y[1,0,::2])"
   ]
  },
  {
   "cell_type": "code",
   "execution_count": null,
   "id": "4faddc3f-b71b-4e07-923e-f7a544a2bde8",
   "metadata": {},
   "outputs": [],
   "source": []
  }
 ],
 "metadata": {
  "kernelspec": {
   "display_name": "Python 3 (ipykernel)",
   "language": "python",
   "name": "python3"
  },
  "language_info": {
   "codemirror_mode": {
    "name": "ipython",
    "version": 3
   },
   "file_extension": ".py",
   "mimetype": "text/x-python",
   "name": "python",
   "nbconvert_exporter": "python",
   "pygments_lexer": "ipython3",
   "version": "3.12.0"
  }
 },
 "nbformat": 4,
 "nbformat_minor": 5
}
