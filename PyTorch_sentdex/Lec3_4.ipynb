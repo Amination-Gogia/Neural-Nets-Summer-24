{
 "cells": [
  {
   "cell_type": "code",
   "execution_count": 1,
   "metadata": {},
   "outputs": [],
   "source": [
    "import torch.nn as nn \n",
    "import torch.nn.functional as F \n",
    "import torch"
   ]
  },
  {
   "cell_type": "code",
   "execution_count": 7,
   "metadata": {},
   "outputs": [],
   "source": [
    "class Net(nn.Module):\n",
    "    def __init__(self):\n",
    "        super().__init__()\n",
    "        self.fc1 = nn.Linear(784, 64) ## input, output 784 = 28 * 28\n",
    "        self.fc2 = nn.Linear(64, 64)\n",
    "        self.fc3 = nn.Linear(64, 64)\n",
    "        self.fc4 = nn.Linear(64, 10) # 10 classification classes\n",
    "    \n",
    "    def forward(self, x):\n",
    "        a1 = F.relu(self.fc1(x)) #!!!!\n",
    "        a2 = F.relu(self.fc2(a1))\n",
    "        a3 = F.relu(self.fc3(a2))\n",
    "        z4 = self.fc4(a3)\n",
    "        return F.log_softmax(z4, dim = 1)"
   ]
  },
  {
   "cell_type": "code",
   "execution_count": 8,
   "metadata": {},
   "outputs": [
    {
     "name": "stdout",
     "output_type": "stream",
     "text": [
      "Net(\n",
      "  (fc1): Linear(in_features=784, out_features=64, bias=True)\n",
      "  (fc2): Linear(in_features=64, out_features=64, bias=True)\n",
      "  (fc3): Linear(in_features=64, out_features=64, bias=True)\n",
      "  (fc4): Linear(in_features=64, out_features=10, bias=True)\n",
      ")\n"
     ]
    }
   ],
   "source": [
    "net = Net()\n",
    "print(net)"
   ]
  },
  {
   "cell_type": "code",
   "execution_count": 5,
   "metadata": {},
   "outputs": [
    {
     "data": {
      "text/plain": [
       "tensor([[8.3849e-01, 7.4297e-01, 9.1346e-01, 2.1910e-01, 4.0498e-01, 7.8045e-01,\n",
       "         2.3147e-02, 8.7407e-01, 9.5313e-01, 3.1396e-01, 9.1337e-01, 8.3221e-01,\n",
       "         2.4770e-02, 3.9852e-01, 1.8513e-01, 8.7889e-01, 5.4242e-01, 9.6796e-01,\n",
       "         8.1328e-01, 1.6283e-01, 7.7432e-01, 7.3776e-01, 8.8419e-03, 8.3184e-01,\n",
       "         7.0445e-02, 1.7942e-01, 9.7417e-01, 2.3449e-01],\n",
       "        [3.1746e-01, 2.4364e-01, 6.1771e-01, 6.1308e-01, 6.6406e-01, 2.9295e-02,\n",
       "         7.6871e-01, 9.7274e-01, 5.2153e-01, 8.0927e-01, 4.9395e-01, 6.9585e-01,\n",
       "         1.4309e-01, 2.7561e-01, 9.9899e-01, 2.1288e-01, 4.2579e-01, 7.1398e-01,\n",
       "         4.8494e-01, 3.9947e-03, 3.7745e-01, 7.3583e-01, 5.0242e-01, 5.8908e-01,\n",
       "         9.1659e-01, 4.2273e-01, 3.9034e-01, 2.8667e-01],\n",
       "        [1.3863e-01, 1.4419e-01, 4.7576e-01, 7.6797e-01, 4.0315e-01, 1.3141e-01,\n",
       "         1.1906e-01, 8.5732e-01, 5.3008e-01, 8.9701e-02, 4.3314e-01, 8.8434e-01,\n",
       "         1.6120e-01, 6.8320e-01, 9.7417e-01, 7.9711e-01, 6.9512e-01, 6.9666e-01,\n",
       "         2.4696e-01, 1.6424e-01, 8.1798e-01, 7.9966e-01, 9.1117e-01, 1.8107e-01,\n",
       "         7.6290e-01, 7.8151e-01, 7.1662e-01, 7.7287e-01],\n",
       "        [4.6393e-01, 7.9878e-02, 5.3818e-01, 9.8548e-01, 4.6952e-01, 2.7575e-01,\n",
       "         9.3114e-01, 1.2402e-01, 5.1865e-02, 6.7682e-01, 7.3054e-01, 9.4303e-01,\n",
       "         6.7658e-01, 1.8798e-01, 9.9612e-01, 9.2333e-01, 1.9822e-01, 8.5998e-01,\n",
       "         7.2229e-02, 5.6216e-01, 4.8375e-01, 6.5095e-01, 8.4217e-01, 7.4136e-01,\n",
       "         2.4111e-01, 7.4800e-01, 9.0086e-01, 9.6412e-01],\n",
       "        [2.2511e-01, 2.4934e-01, 9.9262e-01, 1.2934e-01, 7.1943e-01, 4.9737e-01,\n",
       "         8.1643e-01, 1.5036e-01, 6.2161e-01, 9.0996e-01, 7.1522e-01, 8.6896e-01,\n",
       "         3.9504e-01, 4.4004e-01, 7.7865e-01, 9.6332e-01, 7.7992e-02, 8.7854e-01,\n",
       "         4.2533e-02, 5.5917e-01, 3.1831e-01, 9.1331e-01, 1.1817e-01, 5.9133e-02,\n",
       "         6.3870e-01, 4.0793e-01, 8.7043e-02, 5.8591e-01],\n",
       "        [4.9656e-01, 9.9325e-01, 8.7499e-01, 2.2676e-01, 5.9767e-01, 7.2715e-01,\n",
       "         9.7883e-01, 6.2173e-01, 3.2490e-01, 9.6191e-01, 3.0962e-01, 1.9297e-01,\n",
       "         7.0570e-01, 1.6195e-01, 3.8162e-01, 9.5113e-03, 1.0615e-01, 8.5566e-01,\n",
       "         6.2605e-01, 7.6940e-01, 9.7117e-01, 4.1734e-01, 3.5597e-01, 8.1899e-01,\n",
       "         3.6951e-01, 9.4262e-01, 1.6147e-01, 4.9627e-01],\n",
       "        [7.3206e-01, 8.3632e-01, 9.6594e-01, 9.7407e-01, 1.9370e-01, 5.7788e-01,\n",
       "         1.3104e-01, 2.6140e-01, 7.5795e-01, 7.3286e-01, 9.4200e-01, 3.7514e-01,\n",
       "         9.8678e-01, 3.6013e-01, 9.3569e-01, 8.3915e-02, 4.9487e-01, 5.3971e-02,\n",
       "         7.2090e-02, 2.3098e-02, 7.6380e-01, 7.8966e-01, 9.6212e-01, 9.1726e-01,\n",
       "         8.5630e-01, 6.2461e-02, 7.6449e-01, 3.7179e-02],\n",
       "        [8.1238e-01, 5.3804e-01, 7.2319e-01, 9.8423e-01, 8.5021e-01, 5.8188e-01,\n",
       "         8.6736e-01, 4.7598e-02, 1.3544e-01, 8.1126e-01, 1.3021e-01, 7.9440e-01,\n",
       "         5.3349e-01, 1.4823e-02, 5.2541e-01, 8.5450e-01, 1.1231e-01, 8.1372e-01,\n",
       "         1.8648e-01, 8.4199e-02, 7.1154e-01, 9.7420e-01, 1.7534e-01, 3.3818e-01,\n",
       "         2.4942e-01, 8.8610e-01, 9.9306e-01, 1.9403e-01],\n",
       "        [5.8253e-01, 3.6583e-02, 7.8591e-01, 9.5958e-01, 8.9687e-01, 3.6877e-01,\n",
       "         3.1183e-01, 7.9002e-01, 4.9806e-01, 1.7496e-01, 9.6668e-01, 1.8547e-01,\n",
       "         6.6742e-01, 6.7425e-04, 9.4019e-01, 2.3596e-01, 3.0608e-01, 8.8011e-01,\n",
       "         6.3941e-02, 5.3078e-01, 5.8915e-01, 1.5942e-01, 1.8411e-01, 6.0646e-01,\n",
       "         2.4473e-02, 1.0871e-01, 1.5178e-01, 3.0386e-01],\n",
       "        [2.0604e-01, 2.1430e-01, 1.2316e-03, 1.5579e-01, 3.8919e-01, 8.8685e-01,\n",
       "         3.9340e-01, 5.6213e-02, 5.7423e-01, 9.1743e-01, 7.9952e-03, 6.7762e-01,\n",
       "         7.1512e-01, 7.5827e-01, 5.1993e-01, 2.0595e-01, 7.4938e-01, 5.8146e-01,\n",
       "         5.8812e-01, 6.2018e-01, 7.7513e-01, 5.7326e-01, 9.1455e-01, 8.3702e-01,\n",
       "         3.0801e-01, 8.8674e-02, 1.9420e-01, 7.1009e-01],\n",
       "        [5.8963e-01, 8.9426e-01, 3.5244e-01, 3.9685e-01, 3.6144e-02, 8.8879e-01,\n",
       "         5.2375e-01, 4.2059e-01, 8.1575e-01, 3.6017e-01, 7.5764e-01, 7.3672e-01,\n",
       "         8.1709e-01, 7.0480e-01, 5.1905e-01, 1.2002e-01, 4.7415e-01, 6.9042e-01,\n",
       "         5.9136e-01, 6.1500e-01, 6.3276e-01, 7.2300e-01, 5.6116e-01, 9.8698e-02,\n",
       "         7.5936e-01, 4.2011e-01, 5.4723e-01, 9.8570e-01],\n",
       "        [6.5716e-01, 9.5186e-01, 7.7491e-01, 7.5930e-02, 2.7257e-01, 7.4329e-01,\n",
       "         9.2773e-01, 6.6834e-01, 3.8585e-01, 7.5284e-01, 7.0642e-01, 3.5271e-01,\n",
       "         4.5117e-01, 9.1062e-02, 5.4736e-01, 2.9619e-01, 1.9307e-01, 7.6303e-01,\n",
       "         4.7778e-01, 6.0343e-01, 5.8255e-01, 2.2789e-01, 1.6916e-01, 4.4696e-01,\n",
       "         4.4294e-01, 5.8810e-01, 3.3716e-01, 5.6733e-01],\n",
       "        [7.3397e-01, 7.8544e-02, 4.2236e-01, 6.2945e-01, 3.2906e-01, 6.0666e-01,\n",
       "         4.9877e-01, 2.3058e-01, 5.2591e-01, 3.0555e-01, 6.1956e-01, 5.8419e-01,\n",
       "         4.7172e-01, 6.3278e-01, 3.9466e-01, 3.1829e-01, 3.0149e-01, 4.2132e-01,\n",
       "         8.3995e-01, 1.7996e-01, 5.2134e-01, 9.1181e-01, 2.1406e-01, 5.7192e-01,\n",
       "         5.7650e-01, 2.5727e-01, 2.5071e-01, 2.0523e-01],\n",
       "        [4.9023e-01, 8.8799e-01, 6.5171e-01, 2.1282e-02, 9.2417e-01, 8.1069e-01,\n",
       "         6.1889e-01, 5.6928e-01, 2.3485e-01, 1.1284e-01, 9.6726e-01, 5.1493e-01,\n",
       "         8.0443e-01, 8.9017e-01, 5.9846e-01, 5.6452e-01, 3.7865e-01, 6.9298e-01,\n",
       "         4.2525e-01, 3.3686e-01, 8.2957e-01, 3.9014e-01, 8.2290e-02, 3.3539e-01,\n",
       "         3.5749e-01, 2.6211e-01, 6.2885e-01, 4.9034e-01],\n",
       "        [8.6427e-01, 3.2923e-01, 3.0920e-01, 6.8974e-01, 2.1855e-01, 8.3884e-01,\n",
       "         8.7400e-02, 8.8266e-01, 7.5032e-01, 2.8231e-01, 3.7303e-01, 3.0958e-01,\n",
       "         6.7869e-01, 9.3742e-01, 6.3576e-01, 8.6202e-01, 9.3225e-01, 9.9994e-01,\n",
       "         1.7790e-02, 3.4532e-01, 5.6609e-01, 4.8646e-01, 8.5209e-01, 3.1824e-01,\n",
       "         8.0593e-01, 4.7048e-01, 1.6853e-01, 3.7842e-01],\n",
       "        [4.2067e-01, 7.2428e-03, 3.4260e-01, 7.7882e-01, 8.1983e-01, 2.7059e-01,\n",
       "         3.8868e-01, 7.9544e-01, 9.3131e-01, 2.1911e-02, 7.3468e-01, 1.9092e-01,\n",
       "         5.7772e-01, 6.9978e-01, 5.7598e-01, 5.6957e-01, 3.4789e-01, 3.8602e-01,\n",
       "         8.0318e-01, 6.2251e-01, 4.5854e-01, 8.1595e-01, 6.4479e-01, 7.8740e-01,\n",
       "         7.2356e-01, 6.0121e-01, 5.6382e-01, 1.9645e-01],\n",
       "        [8.2337e-01, 6.5887e-01, 9.1285e-01, 4.4775e-01, 2.0298e-01, 8.1618e-01,\n",
       "         5.4363e-01, 6.2297e-01, 5.4129e-01, 4.0658e-01, 3.1525e-01, 7.2456e-01,\n",
       "         5.7335e-01, 6.3209e-01, 6.3637e-01, 2.1789e-02, 4.4724e-01, 8.0488e-01,\n",
       "         1.9700e-01, 3.8863e-01, 5.4995e-01, 1.3503e-01, 1.5563e-01, 9.3487e-01,\n",
       "         8.6485e-01, 7.8194e-01, 9.0802e-01, 6.0091e-01],\n",
       "        [9.5844e-01, 5.0379e-01, 5.4614e-01, 1.7222e-01, 2.4537e-01, 7.7634e-01,\n",
       "         4.2865e-01, 6.4943e-02, 5.0279e-02, 3.1050e-01, 6.4928e-01, 8.9081e-01,\n",
       "         7.8139e-01, 3.0968e-01, 1.8450e-01, 9.3905e-01, 5.4907e-01, 8.6976e-01,\n",
       "         4.7961e-01, 3.9259e-02, 8.6724e-01, 2.6449e-01, 6.0360e-01, 8.6482e-01,\n",
       "         3.4706e-02, 8.5511e-01, 9.6074e-01, 2.1759e-01],\n",
       "        [5.1282e-01, 9.5720e-02, 9.2490e-01, 6.6409e-01, 1.1332e-01, 3.2760e-01,\n",
       "         5.7171e-01, 2.8560e-01, 4.4220e-01, 6.2950e-01, 8.2842e-01, 9.4776e-02,\n",
       "         6.0153e-01, 7.8959e-02, 3.8104e-01, 7.5701e-01, 7.3848e-01, 9.1922e-01,\n",
       "         7.7698e-01, 1.9292e-01, 7.3576e-02, 5.7040e-01, 7.2169e-01, 1.8601e-01,\n",
       "         8.6778e-01, 2.3314e-01, 6.9491e-01, 6.5828e-01],\n",
       "        [3.1167e-02, 5.3180e-01, 5.3159e-01, 7.5024e-01, 4.9389e-01, 3.1007e-01,\n",
       "         9.7552e-01, 1.0098e-02, 9.3008e-01, 1.6896e-01, 2.2034e-01, 9.3270e-01,\n",
       "         6.9632e-01, 6.9124e-01, 4.3323e-01, 5.5995e-01, 8.3948e-02, 2.5127e-02,\n",
       "         3.2384e-01, 1.2806e-01, 3.2409e-01, 2.5010e-01, 6.8684e-01, 6.9152e-01,\n",
       "         6.8050e-01, 6.0550e-01, 9.0688e-01, 8.4012e-02],\n",
       "        [9.7210e-01, 5.9710e-01, 9.0661e-01, 4.2272e-01, 6.8832e-01, 6.7111e-01,\n",
       "         6.3632e-01, 9.9043e-02, 3.6798e-01, 2.9110e-01, 7.5523e-01, 2.3626e-02,\n",
       "         1.2429e-01, 1.4299e-01, 2.7860e-01, 9.2754e-01, 1.4575e-01, 4.4643e-01,\n",
       "         5.9531e-01, 6.2919e-01, 9.4862e-01, 2.6048e-02, 7.4261e-01, 2.3039e-02,\n",
       "         1.1787e-01, 8.0934e-01, 7.9380e-01, 5.9946e-01],\n",
       "        [5.1254e-01, 5.4726e-02, 8.3208e-01, 9.8691e-02, 7.3430e-01, 4.0960e-01,\n",
       "         1.0129e-01, 3.5421e-02, 4.8376e-01, 9.6098e-02, 1.9385e-01, 7.9920e-01,\n",
       "         5.2762e-01, 8.3027e-01, 7.2163e-01, 4.5527e-01, 3.3218e-02, 6.5281e-02,\n",
       "         7.0434e-01, 9.2607e-01, 3.4171e-01, 1.3854e-01, 5.5768e-02, 1.3049e-01,\n",
       "         8.6478e-01, 4.3099e-01, 2.1900e-02, 9.8369e-01],\n",
       "        [7.1338e-01, 2.5846e-01, 5.0482e-01, 7.5746e-01, 1.6478e-01, 6.4946e-01,\n",
       "         2.0919e-01, 2.5957e-01, 3.2273e-01, 3.7587e-01, 1.7669e-01, 4.1638e-01,\n",
       "         8.5713e-01, 4.4751e-01, 8.1820e-01, 7.8029e-01, 7.5583e-01, 1.6160e-01,\n",
       "         7.9978e-01, 7.7101e-01, 3.3626e-01, 2.1430e-01, 2.9773e-01, 2.7330e-01,\n",
       "         4.6987e-01, 5.5549e-01, 6.4387e-01, 2.6848e-01],\n",
       "        [3.6713e-01, 4.2625e-01, 4.9233e-04, 2.5107e-01, 2.8982e-01, 7.1309e-01,\n",
       "         8.0575e-03, 9.9336e-02, 1.3293e-02, 2.1843e-01, 1.5668e-01, 5.4790e-01,\n",
       "         7.5451e-01, 7.5211e-02, 4.9258e-02, 4.2475e-01, 6.6306e-01, 6.7738e-01,\n",
       "         4.3397e-01, 8.4210e-01, 1.7179e-01, 7.4805e-01, 5.0892e-01, 2.5741e-01,\n",
       "         5.2229e-01, 8.4212e-01, 2.8236e-01, 3.9770e-01],\n",
       "        [5.7296e-01, 8.0317e-01, 6.9552e-01, 3.1372e-01, 1.0323e-01, 5.3352e-01,\n",
       "         3.1896e-02, 4.5006e-01, 8.0966e-01, 7.1795e-01, 2.5495e-02, 5.1011e-02,\n",
       "         5.5835e-01, 4.1131e-01, 7.9503e-01, 1.5983e-01, 9.6471e-01, 7.5143e-01,\n",
       "         8.3116e-01, 2.5212e-01, 4.3704e-01, 1.9355e-01, 5.5597e-01, 1.7330e-01,\n",
       "         3.7934e-01, 4.6916e-01, 2.9207e-01, 6.9511e-01],\n",
       "        [3.5590e-02, 1.5811e-01, 4.4906e-01, 9.3586e-01, 5.7146e-01, 6.1729e-01,\n",
       "         8.6594e-01, 1.3344e-01, 6.5658e-02, 9.4847e-01, 5.3021e-01, 5.6390e-01,\n",
       "         3.2705e-01, 5.9636e-02, 2.8023e-01, 3.0297e-01, 8.5903e-01, 9.4294e-01,\n",
       "         1.7861e-01, 7.2189e-01, 6.5701e-01, 4.3102e-01, 9.2931e-01, 1.2387e-01,\n",
       "         7.8000e-01, 2.5013e-01, 4.0443e-01, 3.9675e-01],\n",
       "        [8.7088e-01, 4.9860e-01, 7.5671e-01, 1.3957e-01, 7.7632e-01, 4.4934e-01,\n",
       "         6.0523e-01, 2.0340e-01, 7.0790e-01, 9.9961e-01, 7.9860e-01, 2.1491e-01,\n",
       "         6.4964e-01, 2.4872e-01, 6.7009e-01, 1.1887e-01, 4.1744e-01, 2.9781e-01,\n",
       "         4.7805e-01, 9.8890e-01, 9.6312e-01, 1.4515e-01, 9.9485e-03, 9.9821e-01,\n",
       "         9.5122e-01, 7.9346e-02, 5.2333e-02, 2.1819e-02],\n",
       "        [5.9828e-01, 3.9023e-01, 4.6453e-01, 1.3011e-01, 3.9823e-01, 4.7617e-01,\n",
       "         4.1532e-01, 3.0568e-02, 6.3266e-01, 3.2186e-01, 5.0288e-01, 7.2101e-01,\n",
       "         1.8723e-01, 3.1295e-01, 2.8023e-01, 1.9354e-01, 4.0453e-02, 9.4478e-01,\n",
       "         5.4212e-01, 1.8917e-01, 5.4871e-01, 4.5515e-01, 1.9956e-01, 8.6768e-01,\n",
       "         8.5057e-01, 5.9147e-01, 9.0560e-01, 7.3573e-01]])"
      ]
     },
     "execution_count": 5,
     "metadata": {},
     "output_type": "execute_result"
    }
   ],
   "source": [
    "X = torch.rand((28, 28))\n",
    "X"
   ]
  },
  {
   "cell_type": "code",
   "execution_count": 9,
   "metadata": {},
   "outputs": [
    {
     "name": "stdout",
     "output_type": "stream",
     "text": [
      "tensor([[-2.3223, -2.1817, -2.3188, -2.3304, -2.3609, -2.3233, -2.2960, -2.3527,\n",
      "         -2.2811, -2.2708]], grad_fn=<LogSoftmaxBackward0>)\n"
     ]
    }
   ],
   "source": [
    "output = net(X.view([-1,784])) ## -1 for the number of training examples\n",
    "print(output)"
   ]
  },
  {
   "cell_type": "code",
   "execution_count": 32,
   "metadata": {},
   "outputs": [],
   "source": [
    "import torch.optim as optim\n",
    "\n",
    "optimizer = optim.Adam(net.parameters(), lr = 0.0001)\n",
    "\n",
    "EPOCHS = 3"
   ]
  },
  {
   "cell_type": "code",
   "execution_count": 11,
   "metadata": {},
   "outputs": [],
   "source": [
    "import torch\n",
    "import torchvision\n",
    "from torchvision import datasets, transforms"
   ]
  },
  {
   "cell_type": "code",
   "execution_count": 29,
   "metadata": {},
   "outputs": [],
   "source": [
    "train = datasets.MNIST(\"\", train = True, \n",
    "                       transform= transforms.Compose([transforms.ToTensor()]))\n",
    "\n",
    "test = datasets.MNIST(\"\", train = False,\n",
    "                       transform= transforms.Compose([transforms.ToTensor()]))"
   ]
  },
  {
   "cell_type": "code",
   "execution_count": 30,
   "metadata": {},
   "outputs": [],
   "source": [
    "trainset = torch.utils.data.DataLoader(train, batch_size = 10, shuffle = True)\n",
    "testset = torch.utils.data.DataLoader(test, batch_size = 10, shuffle= True)"
   ]
  },
  {
   "cell_type": "code",
   "execution_count": 34,
   "metadata": {},
   "outputs": [
    {
     "name": "stdout",
     "output_type": "stream",
     "text": [
      "tensor(0.4829, grad_fn=<NllLossBackward0>)\n",
      "tensor(0.2547, grad_fn=<NllLossBackward0>)\n",
      "tensor(0.0941, grad_fn=<NllLossBackward0>)\n"
     ]
    }
   ],
   "source": [
    "optimizer\n",
    "\n",
    "for epoch in range(EPOCHS):\n",
    "    for data in trainset:\n",
    "        ## data is a batch of featuresets and labels\n",
    "        X, y = data\n",
    "        # print(X[0], y[0])\n",
    "        # break\n",
    "        net.zero_grad()\n",
    "        output = net(X.view(-1, 28 * 28))\n",
    "        loss = F.nll_loss(output, y)\n",
    "        loss.backward()\n",
    "        optimizer.step()\n",
    "    print(loss)\n"
   ]
  },
  {
   "cell_type": "code",
   "execution_count": 35,
   "metadata": {},
   "outputs": [
    {
     "name": "stdout",
     "output_type": "stream",
     "text": [
      "Accuracy:  0.943\n"
     ]
    }
   ],
   "source": [
    "correct = 0\n",
    "total = 0\n",
    "\n",
    "with torch.no_grad():\n",
    "    for data in testset:\n",
    "        X, y = data\n",
    "        output = net(X.view(-1, 784))\n",
    "        for idx, i in enumerate(output):\n",
    "            if torch.argmax(i) == y[idx]:\n",
    "                correct += 1\n",
    "            total += 1\n",
    "\n",
    "print('Accuracy: ', round(correct/total , 3))"
   ]
  },
  {
   "cell_type": "code",
   "execution_count": 43,
   "metadata": {},
   "outputs": [
    {
     "data": {
      "image/png": "[encoded data removed]",
      "text/plain": [
       "<Figure size 640x480 with 1 Axes>"
      ]
     },
     "metadata": {},
     "output_type": "display_data"
    }
   ],
   "source": [
    "import matplotlib.pyplot as plt\n",
    "plt.imshow(X[7].view(28, 28))\n",
    "plt.show()"
   ]
  },
  {
   "cell_type": "code",
   "execution_count": 45,
   "metadata": {},
   "outputs": [
    {
     "name": "stdout",
     "output_type": "stream",
     "text": [
      "tensor(7)\n"
     ]
    }
   ],
   "source": [
    "print(torch.argmax(net(X[7].view(-1, 784))[0]))"
   ]
  }
 ],
 "metadata": {
  "kernelspec": {
   "display_name": "Python 3",
   "language": "python",
   "name": "python3"
  },
  "language_info": {
   "codemirror_mode": {
    "name": "ipython",
    "version": 3
   },
   "file_extension": ".py",
   "mimetype": "text/x-python",
   "name": "python",
   "nbconvert_exporter": "python",
   "pygments_lexer": "ipython3",
   "version": "3.12.0"
  }
 },
 "nbformat": 4,
 "nbformat_minor": 2
}
