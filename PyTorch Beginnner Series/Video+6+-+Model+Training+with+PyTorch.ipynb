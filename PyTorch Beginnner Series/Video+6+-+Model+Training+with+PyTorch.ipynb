{
 "cells": [
  {
   "cell_type": "markdown",
   "metadata": {},
   "source": [
    "# Training Your Model in PyTorch\n",
    "## Introduction\n",
    "In past videos, we've discussed and demonstrated:\n",
    "* Building models with the neural network layers and functions of the torch.nn module\n",
    "* The mechanics of automated gradient computation, which is central to gradient-based model training\n",
    "* Using TensorBoard to visualize training progress and other activities\n",
    "\n",
    "In this video, we'll be adding some new tools to your inventory:\n",
    "* We'll get familiar with the dataset and dataloader abstractions, and how they ease the process of feeding data to your model during a training loop\n",
    "* We'll discuss specific loss functions and when to use them\n",
    "* We'll look at PyTorch optimizers, which implement algorithms to adjust model weights based on the outcome of a loss function\n",
    "\n",
    "Finally, we'll pull all of these together and see a full PyTorch training loop in action."
   ]
  },
  {
   "cell_type": "markdown",
   "metadata": {},
   "source": [
    "## Dataset and DataLoader\n",
    "\n",
    "The `Dataset` and `DataLoader` classes encapsulate the process of pulling your data from storage and exposing it to your training loop in batches.\n",
    "\n",
    "The `Dataset` is responsible for accessing and processing single instances of data.\n",
    "\n",
    "The `DataLoader` pulls instances of data from the `Dataset` (either automatically or with a sampler that you define), collects them in batches, and returns them for consumption by your training loop. The `DataLoader` works with all kinds of datasets, regardless of the type of data they contain.\n",
    "\n",
    "For this tutorial, we'll be using the Fashion-MNIST dataset provided by TorchVision. We use `torchvision.transforms.Normalize()` to zero-center and normalize the distribution of the image tile content, and download both training and validation data splits."
   ]
  },
  {
   "cell_type": "code",
   "execution_count": 1,
   "metadata": {},
   "outputs": [
    {
     "name": "stdout",
     "output_type": "stream",
     "text": [
      "Training set has 60000 instances\n",
      "Validation set has 10000 instances\n"
     ]
    }
   ],
   "source": [
    "import torch\n",
    "import torchvision\n",
    "import torchvision.transforms as transforms\n",
    "\n",
    "# PyTorch TensorBoard support\n",
    "from torch.utils.tensorboard import SummaryWriter\n",
    "from datetime import datetime\n",
    "\n",
    "\n",
    "transform = transforms.Compose(\n",
    "    [transforms.ToTensor(),\n",
    "    transforms.Normalize((0.5,), (0.5,))])\n",
    "\n",
    "# Create datasets for training & validation, download if necessary\n",
    "training_set = torchvision.datasets.FashionMNIST('./data', train=True, transform=transform, download=True)\n",
    "validation_set = torchvision.datasets.FashionMNIST('./data', train=False, transform=transform, download=True)\n",
    "\n",
    "# Create data loaders for our datasets; shuffle for training, not for validation\n",
    "training_loader = torch.utils.data.DataLoader(training_set, batch_size=4, shuffle=True, num_workers=2)\n",
    "validation_loader = torch.utils.data.DataLoader(validation_set, batch_size=4, shuffle=False, num_workers=2)\n",
    "\n",
    "# Class labels\n",
    "classes = ('T-shirt/top', 'Trouser', 'Pullover', 'Dress', 'Coat',\n",
    "        'Sandal', 'Shirt', 'Sneaker', 'Bag', 'Ankle Boot')\n",
    "\n",
    "# Report split sizes\n",
    "print('Training set has {} instances'.format(len(training_set)))\n",
    "print('Validation set has {} instances'.format(len(validation_set)))"
   ]
  },
  {
   "cell_type": "markdown",
   "metadata": {},
   "source": [
    "As always, let's visualize the data as a sanity check:"
   ]
  },
  {
   "cell_type": "code",
   "execution_count": 2,
   "metadata": {},
   "outputs": [
    {
     "name": "stdout",
     "output_type": "stream",
     "text": [
      "Bag  Bag  Sandal  T-shirt/top\n"
     ]
    },
    {
     "data": {
      "image/png": "[encoded data removed]",
      "text/plain": [
       "<Figure size 640x480 with 1 Axes>"
      ]
     },
     "metadata": {},
     "output_type": "display_data"
    }
   ],
   "source": [
    "import matplotlib.pyplot as plt\n",
    "import numpy as np\n",
    "\n",
    "# Helper function for inline image display\n",
    "def matplotlib_imshow(img, one_channel=False):\n",
    "    if one_channel:\n",
    "        img = img.mean(dim=0)\n",
    "    img = img / 2 + 0.5     # unnormalize\n",
    "    npimg = img.numpy()\n",
    "    if one_channel:\n",
    "        plt.imshow(npimg, cmap=\"Greys\")\n",
    "    else:\n",
    "        plt.imshow(np.transpose(npimg, (1, 2, 0)))\n",
    "\n",
    "dataiter = iter(training_loader)\n",
    "images, labels = next(dataiter)\n",
    "\n",
    "# Create a grid from the images and show them\n",
    "img_grid = torchvision.utils.make_grid(images)\n",
    "matplotlib_imshow(img_grid, one_channel=True)\n",
    "print('  '.join(classes[labels[j]] for j in range(4)))"
   ]
  },
  {
   "cell_type": "markdown",
   "metadata": {},
   "source": [
    "## The Model\n",
    "\n",
    "The model we'll use in this example is a variant of LeNet-5 - it should be familiar if you've watched the previous videos in this series."
   ]
  },
  {
   "cell_type": "code",
   "execution_count": 17,
   "metadata": {},
   "outputs": [],
   "source": [
    "import torch.nn as nn\n",
    "import torch.nn.functional as F\n",
    "\n",
    "# PyTorch models inherit from torch.nn.Module\n",
    "class GarmentClassifier(nn.Module):\n",
    "    def __init__(self):\n",
    "        super(GarmentClassifier, self).__init__()\n",
    "        self.conv1 = nn.Conv2d(1, 6, 5)\n",
    "        self.pool = nn.MaxPool2d(2, 2)\n",
    "        self.conv2 = nn.Conv2d(6, 16, 5)\n",
    "        self.fc1 = nn.Linear(16 * 4 * 4, 120)\n",
    "        self.fc2 = nn.Linear(120, 84)\n",
    "        self.fc3 = nn.Linear(84, 10)\n",
    "\n",
    "    def forward(self, x):\n",
    "        x = self.pool(F.relu(self.conv1(x)))\n",
    "        x = self.pool(F.relu(self.conv2(x)))\n",
    "        x = x.view(-1, 16 * 4 * 4)\n",
    "        x = F.relu(self.fc1(x))\n",
    "        x = F.relu(self.fc2(x))\n",
    "        x = self.fc3(x)\n",
    "        return x\n",
    "    \n",
    "\n",
    "model = GarmentClassifier()"
   ]
  },
  {
   "cell_type": "markdown",
   "metadata": {},
   "source": [
    "## Loss Function\n",
    "\n",
    "For this example, we'll be using a cross-entropy loss. For demonstration purposes, we'll create batches of dummy output and label values, run them through the loss function, and examine the result."
   ]
  },
  {
   "cell_type": "code",
   "execution_count": 18,
   "metadata": {},
   "outputs": [
    {
     "name": "stdout",
     "output_type": "stream",
     "text": [
      "tensor([[0.2718, 0.0496, 0.9713, 0.2132, 0.1758, 0.0657, 0.9993, 0.3453, 0.3429,\n",
      "         0.9393],\n",
      "        [0.9157, 0.0488, 0.4641, 0.6915, 0.5709, 0.1889, 0.4501, 0.0638, 0.5090,\n",
      "         0.8991],\n",
      "        [0.0115, 0.1490, 0.7901, 0.7206, 0.4370, 0.8644, 0.8692, 0.2863, 0.3426,\n",
      "         0.1749],\n",
      "        [0.6032, 0.8198, 0.5468, 0.8406, 0.6709, 0.4922, 0.6884, 0.2067, 0.2271,\n",
      "         0.6180]])\n",
      "tensor([1, 5, 3, 7])\n",
      "Total loss for this batch: 2.544144630432129\n"
     ]
    }
   ],
   "source": [
    "loss_fn = torch.nn.CrossEntropyLoss()\n",
    "\n",
    "# NB: Loss functions expect data in batches, so we're creating batches of 4\n",
    "# Represents the model's confidence in each of the 10 classes for a given input\n",
    "dummy_outputs = torch.rand(4, 10)\n",
    "# Represents the correct class among the 10 being tested\n",
    "dummy_labels = torch.tensor([1, 5, 3, 7])\n",
    "    \n",
    "print(dummy_outputs)\n",
    "print(dummy_labels)\n",
    "\n",
    "loss = loss_fn(dummy_outputs, dummy_labels)\n",
    "print('Total loss for this batch: {}'.format(loss.item()))"
   ]
  },
  {
   "cell_type": "markdown",
   "metadata": {},
   "source": [
    "## Optimizer\n",
    "\n",
    "For this example, we'll be using simple [stochastic gradient descent](https://pytorch.org/docs/stable/optim.html) with momentum.\n",
    "\n",
    "It can be instructive to try some variations on this optimization scheme:\n",
    "* Learning rate determines the size of the steps the optimizer takes. What does a different learning rate do to the your training results, in terms of accuracy and convergence time?\n",
    "* Momentum nudges the optimizer in the direction of strongest gradient over multiple steps. What does changing this value do to your results?\n",
    "* Try some different optimization algorithms, such as averaged SGD, Adagrad, or Adam. How do your results differ?"
   ]
  },
  {
   "cell_type": "code",
   "execution_count": 19,
   "metadata": {},
   "outputs": [],
   "source": [
    "# Optimizers specified in the torch.optim package\n",
    "optimizer = torch.optim.SGD(model.parameters(), lr=0.001, momentum=0.9)"
   ]
  },
  {
   "cell_type": "markdown",
   "metadata": {},
   "source": [
    "## The Training Loop\n",
    "\n",
    "Below, we have a function that performs one training epoch. It enumerates data from the DataLoader, and on each pass of the loop does the following:\n",
    "* Gets a batch of training data from the DataLoader\n",
    "* Zeros the optimizer's gradients\n",
    "* Performs an inference - that is, gets predictions from the model for an input batch\n",
    "* Calculates the loss for that set of predictions vs. the labels on the dataset\n",
    "* Calculates the backward gradients over the learning weights\n",
    "* Tells the optimizer to perform one learning step - that is, adjust the model's learning weights based on the observed gradients for this batch, according to the optimization algorithm we chose\n",
    "* It reports on the loss for every 1000 batches.\n",
    "* Finally, it reports the average per-batch loss for the last 1000 batches, for comparison with a validation run"
   ]
  },
  {
   "cell_type": "code",
   "execution_count": 20,
   "metadata": {},
   "outputs": [],
   "source": [
    "def train_one_epoch(epoch_index, tb_writer):\n",
    "    running_loss = 0.\n",
    "    last_loss = 0.\n",
    "    \n",
    "    # Here, we use enumerate(training_loader) instead of\n",
    "    # iter(training_loader) so that we can track the batch\n",
    "    # index and do some intra-epoch reporting\n",
    "    for i, data in enumerate(training_loader):\n",
    "        # Every data instance is an input + label pair\n",
    "        inputs, labels = data\n",
    "        \n",
    "        # Zero your gradients for every batch!\n",
    "        optimizer.zero_grad()\n",
    "        \n",
    "        # Make predictions for this batch\n",
    "        outputs = model(inputs)\n",
    "        \n",
    "        # Compute the loss and its gradients\n",
    "        loss = loss_fn(outputs, labels)\n",
    "        loss.backward()\n",
    "        \n",
    "        # Adjust learning weights\n",
    "        optimizer.step()\n",
    "        \n",
    "        # Gather data and report\n",
    "        running_loss += loss.item()\n",
    "        if i % 1000 == 999:\n",
    "            last_loss = running_loss / 1000 # loss per batch\n",
    "            print('  batch {} loss: {}'.format(i + 1, last_loss))\n",
    "            tb_x = epoch_index * len(training_loader) + i + 1\n",
    "            tb_writer.add_scalar('Loss/train', last_loss, tb_x)\n",
    "            running_loss = 0.\n",
    "            \n",
    "    return last_loss"
   ]
  },
  {
   "cell_type": "markdown",
   "metadata": {},
   "source": [
    "### Per-Epoch Activity\n",
    "\n",
    "There are a couple of things we'll want to do once per epoch:\n",
    "* Perform validation by checking our relative loss on a set of data that was not used for training, and report this\n",
    "* Save a copy of the model\n",
    "\n",
    "Here, we'll do our reporting in TensorBoard. This will require going to the command line to start TensorBoard, and opening it in another browser tab."
   ]
  },
  {
   "cell_type": "code",
   "execution_count": 21,
   "metadata": {},
   "outputs": [],
   "source": [
    "# Initializing in a separate cell so we can easily add more epochs to the same run\n",
    "timestamp = datetime.now().strftime('%Y%m%d_%H%M%S')\n",
    "writer = SummaryWriter('runs/fashion_trainer_{}'.format(timestamp))\n",
    "epoch_number = 0"
   ]
  },
  {
   "cell_type": "code",
   "execution_count": 22,
   "metadata": {},
   "outputs": [
    {
     "name": "stdout",
     "output_type": "stream",
     "text": [
      "EPOCH 1:\n",
      "  batch 1000 loss: 1.920803471505642\n",
      "  batch 2000 loss: 0.8636180273722858\n",
      "  batch 3000 loss: 0.7112647433225066\n",
      "  batch 4000 loss: 0.640232917365618\n",
      "  batch 5000 loss: 0.5894627693039365\n",
      "  batch 6000 loss: 0.5586110045798123\n",
      "  batch 7000 loss: 0.5068417932698503\n",
      "  batch 8000 loss: 0.5076368873369648\n",
      "  batch 9000 loss: 0.4889992179379333\n",
      "  batch 10000 loss: 0.481026940359734\n",
      "  batch 11000 loss: 0.46857061174343106\n",
      "  batch 12000 loss: 0.4374190957810497\n",
      "  batch 13000 loss: 0.45600595824583434\n",
      "  batch 14000 loss: 0.4443831541519612\n",
      "  batch 15000 loss: 0.4177899377439171\n",
      "LOSS train 0.4177899377439171 valid 0.46455156803131104\n",
      "EPOCH 2:\n",
      "  batch 1000 loss: 0.4312090092484141\n",
      "  batch 2000 loss: 0.4220539195002639\n",
      "  batch 3000 loss: 0.38513270662529975\n",
      "  batch 4000 loss: 0.39930060363197845\n",
      "  batch 5000 loss: 0.3760386260777304\n",
      "  batch 6000 loss: 0.3754592770456802\n",
      "  batch 7000 loss: 0.3748085933198454\n",
      "  batch 8000 loss: 0.3732656232325826\n",
      "  batch 9000 loss: 0.39595018101745516\n",
      "  batch 10000 loss: 0.3858112898617983\n",
      "  batch 11000 loss: 0.3690757144209056\n",
      "  batch 12000 loss: 0.3488162758544204\n",
      "  batch 13000 loss: 0.3377950304840342\n",
      "  batch 14000 loss: 0.35075467054398907\n",
      "  batch 15000 loss: 0.3514091180961987\n",
      "LOSS train 0.3514091180961987 valid 0.3588010370731354\n",
      "EPOCH 3:\n",
      "  batch 1000 loss: 0.33243961022979057\n",
      "  batch 2000 loss: 0.33517047790571813\n",
      "  batch 3000 loss: 0.31545523320586655\n",
      "  batch 4000 loss: 0.3208173245209036\n",
      "  batch 5000 loss: 0.3388496851381205\n",
      "  batch 6000 loss: 0.32785542835671366\n",
      "  batch 7000 loss: 0.33393420007672103\n",
      "  batch 8000 loss: 0.31957323294921663\n",
      "  batch 9000 loss: 0.33131593458377756\n",
      "  batch 10000 loss: 0.3253612243034877\n",
      "  batch 11000 loss: 0.3114895331394146\n",
      "  batch 12000 loss: 0.3205867389517225\n",
      "  batch 13000 loss: 0.3358946534996794\n",
      "  batch 14000 loss: 0.3427823148922107\n",
      "  batch 15000 loss: 0.32553242390719245\n",
      "LOSS train 0.32553242390719245 valid 0.338527113199234\n",
      "EPOCH 4:\n",
      "  batch 1000 loss: 0.2957893900408635\n",
      "  batch 2000 loss: 0.29717338053684944\n",
      "  batch 3000 loss: 0.30550380161347857\n",
      "  batch 4000 loss: 0.28333040844679636\n",
      "  batch 5000 loss: 0.321639839566662\n",
      "  batch 6000 loss: 0.2823831002985389\n",
      "  batch 7000 loss: 0.29509364243269376\n",
      "  batch 8000 loss: 0.3106224030885405\n",
      "  batch 9000 loss: 0.30198133301294\n",
      "  batch 10000 loss: 0.29815874263917796\n",
      "  batch 11000 loss: 0.298397591128989\n",
      "  batch 12000 loss: 0.3013651167784119\n",
      "  batch 13000 loss: 0.2996265047483321\n",
      "  batch 14000 loss: 0.3079123457691021\n",
      "  batch 15000 loss: 0.28826557060765845\n",
      "LOSS train 0.28826557060765845 valid 0.32036030292510986\n",
      "EPOCH 5:\n",
      "  batch 1000 loss: 0.2858408889522825\n",
      "  batch 2000 loss: 0.2840732919691436\n",
      "  batch 3000 loss: 0.2824495554274108\n",
      "  batch 4000 loss: 0.29189164929932665\n",
      "  batch 5000 loss: 0.2791129150128672\n",
      "  batch 6000 loss: 0.27554168534041673\n",
      "  batch 7000 loss: 0.28400080795629035\n",
      "  batch 8000 loss: 0.2728002321229287\n",
      "  batch 9000 loss: 0.28025791284594015\n",
      "  batch 10000 loss: 0.30131992775997785\n",
      "  batch 11000 loss: 0.27930320398675396\n",
      "  batch 12000 loss: 0.2679221631164055\n",
      "  batch 13000 loss: 0.2784790727995132\n",
      "  batch 14000 loss: 0.275662894770363\n",
      "  batch 15000 loss: 0.2716870741864368\n",
      "LOSS train 0.2716870741864368 valid 0.31520113348960876\n"
     ]
    }
   ],
   "source": [
    "EPOCHS = 5\n",
    "\n",
    "best_vloss = 1_000_000.\n",
    "correct = 0\n",
    "total = 0\n",
    "\n",
    "for epoch in range(EPOCHS):\n",
    "    print('EPOCH {}:'.format(epoch_number + 1))\n",
    "    \n",
    "    # Make sure gradient tracking is on, and do a pass over the data\n",
    "    model.train(True)\n",
    "    avg_loss = train_one_epoch(epoch_number, writer)\n",
    "    \n",
    "    # We don't need gradients on to do reporting\n",
    "    model.train(False)\n",
    "    \n",
    "    running_vloss = 0.0\n",
    "    for i, vdata in enumerate(validation_loader):\n",
    "        vinputs, vlabels = vdata\n",
    "        voutputs = model(vinputs)\n",
    "\n",
    "        pred_correct = (torch.argmax(voutputs, dim = 1) == vlabels)\n",
    "        corr_predictions = torch.sum(pred_correct)\n",
    "        correct += corr_predictions\n",
    "        total += vlabels.shape[0]\n",
    "\n",
    "        vloss = loss_fn(voutputs, vlabels)\n",
    "        running_vloss += vloss\n",
    "    \n",
    "    avg_vloss = running_vloss / (i + 1)\n",
    "    print('LOSS train {} valid {}'.format(avg_loss, avg_vloss))\n",
    "    \n",
    "    # Log the running loss averaged per batch\n",
    "    # for both training and validation\n",
    "    writer.add_scalars('Training vs. Validation Loss',\n",
    "                    { 'Training' : avg_loss, 'Validation' : avg_vloss },\n",
    "                    epoch_number + 1)\n",
    "    writer.flush()\n",
    "    \n",
    "    # Track best performance, and save the model's state\n",
    "    if avg_vloss < best_vloss:\n",
    "        best_vloss = avg_vloss\n",
    "        model_path = 'model_{}_{}'.format(timestamp, epoch_number)\n",
    "        torch.save(model.state_dict(), model_path)\n",
    "    \n",
    "    epoch_number += 1"
   ]
  },
  {
   "cell_type": "code",
   "execution_count": 23,
   "metadata": {},
   "outputs": [
    {
     "name": "stdout",
     "output_type": "stream",
     "text": [
      "accuracy = 0.8701800107955933\n"
     ]
    }
   ],
   "source": [
    "print(f'accuracy = {correct/total}')"
   ]
  },
  {
   "cell_type": "markdown",
   "metadata": {},
   "source": [
    "To load a saved version of the model:\n",
    "\n",
    "```\n",
    "saved_model = GarmentClassifier()\n",
    "saved_model.load_state_dict(torch.load(PATH))\n",
    "```\n",
    "\n",
    "Once you've loaded the model, it's ready for whatever you need it for - more training, inference, or analysis.\n",
    "\n",
    "Note that if your model has constructor parameters that affect model structure, you'll need to provide them and configure the model identically to the state in which it was saved.\n",
    "\n",
    "## Other Resources\n",
    "\n",
    "* Docs on the [data utilities](https://pytorch.org/docs/stable/data.html), including Dataset and DataLoader, at pytorch.org\n",
    "* A [note on the use of pinned memory](https://pytorch.org/docs/stable/notes/cuda.html#cuda-memory-pinning) for GPU training\n",
    "* Documentation on the datasets available in [TorchVision](https://pytorch.org/docs/stable/torchvision/datasets.html), [TorchText](https://pytorch.org/text/datasets.html), and [TorchAudio](https://pytorch.org/audio/datasets.html)\n",
    "* Documentation on the [loss functions](https://pytorch.org/docs/stable/nn.html#loss-functions) available in PyTorch\n",
    "* Documentation on the [torch.optim package](https://pytorch.org/docs/stable/optim.html), which includes optimizers and related tools, such as learning rate scheduling\n",
    "* A detailed [tutorial on saving and loading models](https://pytorch.org/tutorials/beginner/saving_loading_models.html)\n",
    "* The [Tutorials section of pytorch.org](https://pytorch.org/tutorials/) contains tutorials on a broad variety of training tasks, including classification in different domains, generative adversarial networks, reinforcement learning, and more"
   ]
  }
 ],
 "metadata": {
  "kernelspec": {
   "display_name": "Python 3 (ipykernel)",
   "language": "python",
   "name": "python3"
  },
  "language_info": {
   "codemirror_mode": {
    "name": "ipython",
    "version": 3
   },
   "file_extension": ".py",
   "mimetype": "text/x-python",
   "name": "python",
   "nbconvert_exporter": "python",
   "pygments_lexer": "ipython3",
   "version": "3.12.0"
  }
 },
 "nbformat": 4,
 "nbformat_minor": 4
}
