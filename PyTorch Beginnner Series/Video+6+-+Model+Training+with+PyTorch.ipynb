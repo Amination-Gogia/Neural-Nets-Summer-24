{
 "cells": [
  {
   "cell_type": "markdown",
   "metadata": {},
   "source": [
    "# Training Your Model in PyTorch\n",
    "## Introduction\n",
    "In past videos, we've discussed and demonstrated:\n",
    "* Building models with the neural network layers and functions of the torch.nn module\n",
    "* The mechanics of automated gradient computation, which is central to gradient-based model training\n",
    "* Using TensorBoard to visualize training progress and other activities\n",
    "\n",
    "In this video, we'll be adding some new tools to your inventory:\n",
    "* We'll get familiar with the dataset and dataloader abstractions, and how they ease the process of feeding data to your model during a training loop\n",
    "* We'll discuss specific loss functions and when to use them\n",
    "* We'll look at PyTorch optimizers, which implement algorithms to adjust model weights based on the outcome of a loss function\n",
    "\n",
    "Finally, we'll pull all of these together and see a full PyTorch training loop in action."
   ]
  },
  {
   "cell_type": "markdown",
   "metadata": {},
   "source": [
    "## Dataset and DataLoader\n",
    "\n",
    "The `Dataset` and `DataLoader` classes encapsulate the process of pulling your data from storage and exposing it to your training loop in batches.\n",
    "\n",
    "The `Dataset` is responsible for accessing and processing single instances of data.\n",
    "\n",
    "The `DataLoader` pulls instances of data from the `Dataset` (either automatically or with a sampler that you define), collects them in batches, and returns them for consumption by your training loop. The `DataLoader` works with all kinds of datasets, regardless of the type of data they contain.\n",
    "\n",
    "For this tutorial, we'll be using the Fashion-MNIST dataset provided by TorchVision. We use `torchvision.transforms.Normalize()` to zero-center and normalize the distribution of the image tile content, and download both training and validation data splits."
   ]
  },
  {
   "cell_type": "code",
   "execution_count": 1,
   "metadata": {},
   "outputs": [
    {
     "name": "stdout",
     "output_type": "stream",
     "text": [
      "Training set has 60000 instances\n",
      "Validation set has 10000 instances\n"
     ]
    }
   ],
   "source": [
    "import torch\n",
    "import torchvision\n",
    "import torchvision.transforms as transforms\n",
    "\n",
    "# PyTorch TensorBoard support\n",
    "from torch.utils.tensorboard import SummaryWriter\n",
    "from datetime import datetime\n",
    "\n",
    "\n",
    "transform = transforms.Compose(\n",
    "    [transforms.ToTensor(),\n",
    "    transforms.Normalize((0.5,), (0.5,))])\n",
    "\n",
    "# Create datasets for training & validation, download if necessary\n",
    "training_set = torchvision.datasets.FashionMNIST('./data', train=True, transform=transform, download=True)\n",
    "validation_set = torchvision.datasets.FashionMNIST('./data', train=False, transform=transform, download=True)\n",
    "\n",
    "# Create data loaders for our datasets; shuffle for training, not for validation\n",
    "training_loader = torch.utils.data.DataLoader(training_set, batch_size=4, shuffle=True, num_workers=2)\n",
    "validation_loader = torch.utils.data.DataLoader(validation_set, batch_size=4, shuffle=False, num_workers=2)\n",
    "\n",
    "# Class labels\n",
    "classes = ('T-shirt/top', 'Trouser', 'Pullover', 'Dress', 'Coat',\n",
    "        'Sandal', 'Shirt', 'Sneaker', 'Bag', 'Ankle Boot')\n",
    "\n",
    "# Report split sizes\n",
    "print('Training set has {} instances'.format(len(training_set)))\n",
    "print('Validation set has {} instances'.format(len(validation_set)))"
   ]
  },
  {
   "cell_type": "markdown",
   "metadata": {},
   "source": [
    "As always, let's visualize the data as a sanity check:"
   ]
  },
  {
   "cell_type": "code",
   "execution_count": 3,
   "metadata": {},
   "outputs": [
    {
     "name": "stdout",
     "output_type": "stream",
     "text": [
      "Dress  Sandal  Sandal  Sneaker\n"
     ]
    },
    {
     "data": {
      "image/png": "[encoded data removed]",
      "text/plain": [
       "<Figure size 640x480 with 1 Axes>"
      ]
     },
     "metadata": {},
     "output_type": "display_data"
    }
   ],
   "source": [
    "import matplotlib.pyplot as plt\n",
    "import numpy as np\n",
    "\n",
    "# Helper function for inline image display\n",
    "def matplotlib_imshow(img, one_channel=False):\n",
    "    if one_channel:\n",
    "        img = img.mean(dim=0)\n",
    "    img = img / 2 + 0.5     # unnormalize\n",
    "    npimg = img.numpy()\n",
    "    if one_channel:\n",
    "        plt.imshow(npimg, cmap=\"Greys\")\n",
    "    else:\n",
    "        plt.imshow(np.transpose(npimg, (1, 2, 0)))\n",
    "\n",
    "dataiter = iter(training_loader)\n",
    "images, labels = next(dataiter)\n",
    "\n",
    "# Create a grid from the images and show them\n",
    "img_grid = torchvision.utils.make_grid(images)\n",
    "matplotlib_imshow(img_grid, one_channel=True)\n",
    "print('  '.join(classes[labels[j]] for j in range(4)))"
   ]
  },
  {
   "cell_type": "markdown",
   "metadata": {},
   "source": [
    "## The Model\n",
    "\n",
    "The model we'll use in this example is a variant of LeNet-5 - it should be familiar if you've watched the previous videos in this series."
   ]
  },
  {
   "cell_type": "code",
   "execution_count": 4,
   "metadata": {},
   "outputs": [],
   "source": [
    "import torch.nn as nn\n",
    "import torch.nn.functional as F\n",
    "\n",
    "# PyTorch models inherit from torch.nn.Module\n",
    "class GarmentClassifier(nn.Module):\n",
    "    def __init__(self):\n",
    "        super(GarmentClassifier, self).__init__()\n",
    "        self.conv1 = nn.Conv2d(1, 6, 5)\n",
    "        self.pool = nn.MaxPool2d(2, 2)\n",
    "        self.conv2 = nn.Conv2d(6, 16, 5)\n",
    "        self.fc1 = nn.Linear(16 * 4 * 4, 120)\n",
    "        self.fc2 = nn.Linear(120, 84)\n",
    "        self.fc3 = nn.Linear(84, 10)\n",
    "\n",
    "    def forward(self, x):\n",
    "        x = self.pool(F.relu(self.conv1(x)))\n",
    "        x = self.pool(F.relu(self.conv2(x)))\n",
    "        x = x.view(-1, 16 * 4 * 4)\n",
    "        x = F.relu(self.fc1(x))\n",
    "        x = F.relu(self.fc2(x))\n",
    "        x = self.fc3(x)\n",
    "        return x\n",
    "    \n",
    "\n",
    "model = GarmentClassifier()"
   ]
  },
  {
   "cell_type": "markdown",
   "metadata": {},
   "source": [
    "## Loss Function\n",
    "\n",
    "For this example, we'll be using a cross-entropy loss. For demonstration purposes, we'll create batches of dummy output and label values, run them through the loss function, and examine the result."
   ]
  },
  {
   "cell_type": "code",
   "execution_count": 5,
   "metadata": {},
   "outputs": [
    {
     "name": "stdout",
     "output_type": "stream",
     "text": [
      "tensor([[0.9567, 0.8610, 0.6689, 0.7980, 0.5485, 0.6141, 0.3463, 0.8993, 0.3023,\n",
      "         0.3901],\n",
      "        [0.2618, 0.1897, 0.2763, 0.0983, 0.5632, 0.7240, 0.3897, 0.2802, 0.9317,\n",
      "         0.4421],\n",
      "        [0.3793, 0.4739, 0.6722, 0.2581, 0.5814, 0.5572, 0.7058, 0.6885, 0.5393,\n",
      "         0.7843],\n",
      "        [0.0997, 0.6652, 0.6817, 0.7481, 0.0628, 0.2588, 0.0765, 0.0266, 0.8105,\n",
      "         0.6589]])\n",
      "tensor([1, 5, 3, 7])\n",
      "Total loss for this batch: 2.3709750175476074\n"
     ]
    }
   ],
   "source": [
    "loss_fn = torch.nn.CrossEntropyLoss()\n",
    "\n",
    "# NB: Loss functions expect data in batches, so we're creating batches of 4\n",
    "# Represents the model's confidence in each of the 10 classes for a given input\n",
    "dummy_outputs = torch.rand(4, 10)\n",
    "# Represents the correct class among the 10 being tested\n",
    "dummy_labels = torch.tensor([1, 5, 3, 7])\n",
    "    \n",
    "print(dummy_outputs)\n",
    "print(dummy_labels)\n",
    "\n",
    "loss = loss_fn(dummy_outputs, dummy_labels)\n",
    "print('Total loss for this batch: {}'.format(loss.item()))"
   ]
  },
  {
   "cell_type": "markdown",
   "metadata": {},
   "source": [
    "## Optimizer\n",
    "\n",
    "For this example, we'll be using simple [stochastic gradient descent](https://pytorch.org/docs/stable/optim.html) with momentum.\n",
    "\n",
    "It can be instructive to try some variations on this optimization scheme:\n",
    "* Learning rate determines the size of the steps the optimizer takes. What does a different learning rate do to the your training results, in terms of accuracy and convergence time?\n",
    "* Momentum nudges the optimizer in the direction of strongest gradient over multiple steps. What does changing this value do to your results?\n",
    "* Try some different optimization algorithms, such as averaged SGD, Adagrad, or Adam. How do your results differ?"
   ]
  },
  {
   "cell_type": "code",
   "execution_count": 6,
   "metadata": {},
   "outputs": [],
   "source": [
    "# Optimizers specified in the torch.optim package\n",
    "optimizer = torch.optim.SGD(model.parameters(), lr=0.001, momentum=0.9)"
   ]
  },
  {
   "cell_type": "markdown",
   "metadata": {},
   "source": [
    "## The Training Loop\n",
    "\n",
    "Below, we have a function that performs one training epoch. It enumerates data from the DataLoader, and on each pass of the loop does the following:\n",
    "* Gets a batch of training data from the DataLoader\n",
    "* Zeros the optimizer's gradients\n",
    "* Performs an inference - that is, gets predictions from the model for an input batch\n",
    "* Calculates the loss for that set of predictions vs. the labels on the dataset\n",
    "* Calculates the backward gradients over the learning weights\n",
    "* Tells the optimizer to perform one learning step - that is, adjust the model's learning weights based on the observed gradients for this batch, according to the optimization algorithm we chose\n",
    "* It reports on the loss for every 1000 batches.\n",
    "* Finally, it reports the average per-batch loss for the last 1000 batches, for comparison with a validation run"
   ]
  },
  {
   "cell_type": "code",
   "execution_count": 9,
   "metadata": {},
   "outputs": [],
   "source": [
    "def train_one_epoch(epoch_index, tb_writer):\n",
    "    running_loss = 0.\n",
    "    last_loss = 0.\n",
    "    \n",
    "    # Here, we use enumerate(training_loader) instead of\n",
    "    # iter(training_loader) so that we can track the batch\n",
    "    # index and do some intra-epoch reporting\n",
    "    for i, data in enumerate(training_loader):\n",
    "        # Every data instance is an input + label pair\n",
    "        inputs, labels = data\n",
    "        \n",
    "        # Zero your gradients for every batch!\n",
    "        optimizer.zero_grad()\n",
    "        \n",
    "        # Make predictions for this batch\n",
    "        outputs = model(inputs)\n",
    "        \n",
    "        # Compute the loss and its gradients\n",
    "        loss = loss_fn(outputs, labels)\n",
    "        loss.backward()\n",
    "        \n",
    "        # Adjust learning weights\n",
    "        optimizer.step()\n",
    "        \n",
    "        # Gather data and report\n",
    "        running_loss += loss.item()\n",
    "        if i % 1000 == 999:\n",
    "            last_loss = running_loss / 1000 # loss per batch\n",
    "            print('  batch {} loss: {}'.format(i + 1, last_loss))\n",
    "            tb_x = epoch_index * len(training_loader) + i + 1\n",
    "            tb_writer.add_scalar('Loss/train', last_loss, tb_x)\n",
    "            running_loss = 0.\n",
    "            \n",
    "    return last_loss"
   ]
  },
  {
   "cell_type": "markdown",
   "metadata": {},
   "source": [
    "### Per-Epoch Activity\n",
    "\n",
    "There are a couple of things we'll want to do once per epoch:\n",
    "* Perform validation by checking our relative loss on a set of data that was not used for training, and report this\n",
    "* Save a copy of the model\n",
    "\n",
    "Here, we'll do our reporting in TensorBoard. This will require going to the command line to start TensorBoard, and opening it in another browser tab."
   ]
  },
  {
   "cell_type": "code",
   "execution_count": 10,
   "metadata": {},
   "outputs": [],
   "source": [
    "# Initializing in a separate cell so we can easily add more epochs to the same run\n",
    "timestamp = datetime.now().strftime('%Y%m%d_%H%M%S')\n",
    "writer = SummaryWriter('runs/fashion_trainer_{}'.format(timestamp))\n",
    "epoch_number = 0"
   ]
  },
  {
   "cell_type": "code",
   "execution_count": 11,
   "metadata": {},
   "outputs": [
    {
     "name": "stdout",
     "output_type": "stream",
     "text": [
      "EPOCH 1:\n",
      "  batch 1000 loss: 1.9270682870447635\n",
      "  batch 2000 loss: 0.860699220277369\n",
      "  batch 3000 loss: 0.720313794195652\n",
      "  batch 4000 loss: 0.6364405573802069\n",
      "  batch 5000 loss: 0.5988690421176143\n",
      "  batch 6000 loss: 0.5856180576408515\n",
      "  batch 7000 loss: 0.5366611617291346\n",
      "  batch 8000 loss: 0.506827236427227\n",
      "  batch 9000 loss: 0.5017086326528806\n",
      "  batch 10000 loss: 0.4840520090131904\n",
      "  batch 11000 loss: 0.48441365363262595\n",
      "  batch 12000 loss: 0.45200398860825225\n",
      "  batch 13000 loss: 0.4396406082606409\n",
      "  batch 14000 loss: 0.42240540178738595\n",
      "  batch 15000 loss: 0.4233239619821543\n",
      "LOSS train 0.4233239619821543 valid 0.43695956468582153\n",
      "EPOCH 2:\n",
      "  batch 1000 loss: 0.38674054371975947\n",
      "  batch 2000 loss: 0.42312053209915756\n",
      "  batch 3000 loss: 0.3960655305016844\n",
      "  batch 4000 loss: 0.37659389462991383\n",
      "  batch 5000 loss: 0.39637373510713225\n",
      "  batch 6000 loss: 0.38962064668379026\n",
      "  batch 7000 loss: 0.37163964910595676\n",
      "  batch 8000 loss: 0.3875356124547543\n",
      "  batch 9000 loss: 0.36118621429511405\n",
      "  batch 10000 loss: 0.39259857127656866\n",
      "  batch 11000 loss: 0.36287444383092227\n",
      "  batch 12000 loss: 0.35670962955837604\n",
      "  batch 13000 loss: 0.3664944339435315\n",
      "  batch 14000 loss: 0.3500673250343461\n",
      "  batch 15000 loss: 0.3666937966398546\n",
      "LOSS train 0.3666937966398546 valid 0.35348328948020935\n",
      "EPOCH 3:\n",
      "  batch 1000 loss: 0.32106383947987344\n",
      "  batch 2000 loss: 0.3362113940738782\n",
      "  batch 3000 loss: 0.3436574467307073\n",
      "  batch 4000 loss: 0.333104943424114\n",
      "  batch 5000 loss: 0.3304765296208498\n",
      "  batch 6000 loss: 0.31894707233052033\n",
      "  batch 7000 loss: 0.32040899224439634\n",
      "  batch 8000 loss: 0.3445940023604635\n",
      "  batch 9000 loss: 0.3273763051904534\n",
      "  batch 10000 loss: 0.3464074848701566\n",
      "  batch 11000 loss: 0.3442694720947111\n",
      "  batch 12000 loss: 0.30279300944664284\n",
      "  batch 13000 loss: 0.29950373166381905\n",
      "  batch 14000 loss: 0.3161150477771189\n",
      "  batch 15000 loss: 0.32972984200995414\n",
      "LOSS train 0.32972984200995414 valid 0.36857637763023376\n",
      "EPOCH 4:\n",
      "  batch 1000 loss: 0.30160362437647925\n",
      "  batch 2000 loss: 0.28887212663040557\n",
      "  batch 3000 loss: 0.2983640227321885\n",
      "  batch 4000 loss: 0.3137735883095447\n",
      "  batch 5000 loss: 0.30446670515506413\n",
      "  batch 6000 loss: 0.3017238482933244\n",
      "  batch 7000 loss: 0.30799025679154146\n",
      "  batch 8000 loss: 0.30979480924352537\n",
      "  batch 9000 loss: 0.2786636336798838\n",
      "  batch 10000 loss: 0.28203153359129646\n",
      "  batch 11000 loss: 0.3071471526261812\n",
      "  batch 12000 loss: 0.3026114825001932\n",
      "  batch 13000 loss: 0.29319434417926094\n",
      "  batch 14000 loss: 0.29215648978197717\n",
      "  batch 15000 loss: 0.2967338528753535\n",
      "LOSS train 0.2967338528753535 valid 0.31197217106819153\n",
      "EPOCH 5:\n",
      "  batch 1000 loss: 0.26738675867104755\n",
      "  batch 2000 loss: 0.25946226187581123\n",
      "  batch 3000 loss: 0.27046238564458325\n",
      "  batch 4000 loss: 0.26824043653996343\n",
      "  batch 5000 loss: 0.2850473433985462\n",
      "  batch 6000 loss: 0.2803162309592153\n",
      "  batch 7000 loss: 0.28286892211990927\n",
      "  batch 8000 loss: 0.2878855625451538\n",
      "  batch 9000 loss: 0.2896640533218815\n",
      "  batch 10000 loss: 0.2892751913653738\n",
      "  batch 11000 loss: 0.2731712563083111\n",
      "  batch 12000 loss: 0.27433355118340114\n",
      "  batch 13000 loss: 0.27152176707943726\n",
      "  batch 14000 loss: 0.2843728420244224\n",
      "  batch 15000 loss: 0.27792817505568385\n",
      "LOSS train 0.27792817505568385 valid 0.3172469139099121\n"
     ]
    }
   ],
   "source": [
    "EPOCHS = 5\n",
    "\n",
    "best_vloss = 1_000_000.\n",
    "\n",
    "for epoch in range(EPOCHS):\n",
    "    print('EPOCH {}:'.format(epoch_number + 1))\n",
    "    \n",
    "    # Make sure gradient tracking is on, and do a pass over the data\n",
    "    model.train(True)\n",
    "    avg_loss = train_one_epoch(epoch_number, writer)\n",
    "    \n",
    "    # We don't need gradients on to do reporting\n",
    "    model.train(False)\n",
    "    \n",
    "    running_vloss = 0.0\n",
    "    for i, vdata in enumerate(validation_loader):\n",
    "        vinputs, vlabels = vdata\n",
    "        voutputs = model(vinputs)\n",
    "        vloss = loss_fn(voutputs, vlabels)\n",
    "        running_vloss += vloss\n",
    "    \n",
    "    avg_vloss = running_vloss / (i + 1)\n",
    "    print('LOSS train {} valid {}'.format(avg_loss, avg_vloss))\n",
    "    \n",
    "    # Log the running loss averaged per batch\n",
    "    # for both training and validation\n",
    "    writer.add_scalars('Training vs. Validation Loss',\n",
    "                    { 'Training' : avg_loss, 'Validation' : avg_vloss },\n",
    "                    epoch_number + 1)\n",
    "    writer.flush()\n",
    "    \n",
    "    # Track best performance, and save the model's state\n",
    "    if avg_vloss < best_vloss:\n",
    "        best_vloss = avg_vloss\n",
    "        model_path = 'model_{}_{}'.format(timestamp, epoch_number)\n",
    "        torch.save(model.state_dict(), model_path)\n",
    "    \n",
    "    epoch_number += 1"
   ]
  },
  {
   "cell_type": "markdown",
   "metadata": {},
   "source": [
    "To load a saved version of the model:\n",
    "\n",
    "```\n",
    "saved_model = GarmentClassifier()\n",
    "saved_model.load_state_dict(torch.load(PATH))\n",
    "```\n",
    "\n",
    "Once you've loaded the model, it's ready for whatever you need it for - more training, inference, or analysis.\n",
    "\n",
    "Note that if your model has constructor parameters that affect model structure, you'll need to provide them and configure the model identically to the state in which it was saved.\n",
    "\n",
    "## Other Resources\n",
    "\n",
    "* Docs on the [data utilities](https://pytorch.org/docs/stable/data.html), including Dataset and DataLoader, at pytorch.org\n",
    "* A [note on the use of pinned memory](https://pytorch.org/docs/stable/notes/cuda.html#cuda-memory-pinning) for GPU training\n",
    "* Documentation on the datasets available in [TorchVision](https://pytorch.org/docs/stable/torchvision/datasets.html), [TorchText](https://pytorch.org/text/datasets.html), and [TorchAudio](https://pytorch.org/audio/datasets.html)\n",
    "* Documentation on the [loss functions](https://pytorch.org/docs/stable/nn.html#loss-functions) available in PyTorch\n",
    "* Documentation on the [torch.optim package](https://pytorch.org/docs/stable/optim.html), which includes optimizers and related tools, such as learning rate scheduling\n",
    "* A detailed [tutorial on saving and loading models](https://pytorch.org/tutorials/beginner/saving_loading_models.html)\n",
    "* The [Tutorials section of pytorch.org](https://pytorch.org/tutorials/) contains tutorials on a broad variety of training tasks, including classification in different domains, generative adversarial networks, reinforcement learning, and more"
   ]
  }
 ],
 "metadata": {
  "kernelspec": {
   "display_name": "Python 3 (ipykernel)",
   "language": "python",
   "name": "python3"
  },
  "language_info": {
   "codemirror_mode": {
    "name": "ipython",
    "version": 3
   },
   "file_extension": ".py",
   "mimetype": "text/x-python",
   "name": "python",
   "nbconvert_exporter": "python",
   "pygments_lexer": "ipython3",
   "version": "3.12.0"
  }
 },
 "nbformat": 4,
 "nbformat_minor": 4
}
